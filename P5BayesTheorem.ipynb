{
  "nbformat": 4,
  "nbformat_minor": 0,
  "metadata": {
    "colab": {
      "provenance": [],
      "collapsed_sections": [],
      "authorship_tag": "ABX9TyND0/GJgRVkh3WOf3NJcvzy",
      "include_colab_link": true
    },
    "kernelspec": {
      "name": "python3",
      "display_name": "Python 3"
    },
    "language_info": {
      "name": "python"
    }
  },
  "cells": [
    {
      "cell_type": "markdown",
      "metadata": {
        "id": "view-in-github",
        "colab_type": "text"
      },
      "source": [
        "<a href=\"https://colab.research.google.com/github/8291606522/ML-Pracs/blob/Prac5/P5BayesTheorem.ipynb\" target=\"_parent\"><img src=\"https://colab.research.google.com/assets/colab-badge.svg\" alt=\"Open In Colab\"/></a>"
      ]
    },
    {
      "cell_type": "markdown",
      "source": [
        "# **Practical No: 05**\n",
        "#**Aim: Bayes Theorem**"
      ],
      "metadata": {
        "id": "XW-sQFRdkjss"
      }
    },
    {
      "cell_type": "markdown",
      "source": [
        "# **Test Scenario**"
      ],
      "metadata": {
        "id": "5Pyy7rd0RWVK"
      }
    },
    {
      "cell_type": "markdown",
      "source": [
        "Consider a human population that may or may not have cancer (Cancer is True or False) and a medical test that returns positive or negative for detecting cancer (Test is Positive or Negative).\n",
        "If a randomly selected patient has the test and it comes back positive, what is the probability that the patient has cancer?\n",
        "\n",
        "\n",
        "\n",
        "Manual Calculation\n",
        "Medical diagnostic tests are not perfect; they have error.\n",
        "Sometimes a patient will have cancer, but the test will not detect it. This capability of the test to detect cancer is referred to as the sensitivity, or the true positive rate.\n",
        "In this case, we will contrive a sensitivity value for the test. The test is good, but not great, with a true positive rate or sensitivity of 85%. That is, of all the people who have cancer and are tested, 85% of them will get a positive result from the test.\n",
        "P(Test=Positive | Cancer=True) = 0.85\n",
        "\n",
        "\n",
        "Given this information, our intuition would suggest that there is an 85% probability that the patient has cancer.\n",
        "Our intuitions of probability are wrong.\n",
        "This type of error in interpreting probabilities is so common that it has its own name; it is referred to as the base rate fallacy.\n",
        "It has this name because the error in estimating the probability of an event is caused by ignoring the base rate. That is, it ignores the probability of a randomly selected person having cancer, regardless of the results of a diagnostic test.\n",
        "In this case, we can assume the probability of breast cancer is low, and use a contrived base rate value of one person in 5,000, or (0.0002) 0.02%.\n",
        "P(Cancer=True) = 0.02%.\n",
        "\n",
        "\n",
        "We can correctly calculate the probability of a patient having cancer given a positive test result using Bayes Theorem.\n",
        "Let’s map our scenario onto the equation:\n",
        "P(A|B) = P(B|A) * P(A) / P(B)\n",
        "P(Cancer=True | Test=Positive) = P(Test=Positive|Cancer=True) * P(Cancer=True) / P(Test=Positive)\n",
        "\n",
        "\n",
        "We know the probability of the test being positive given that the patient has cancer is 85%, and we know the base rate or the prior probability of a given patient having cancer is 0.02%; we can plug these values in:\n",
        "P(Cancer=True | Test=Positive) = 0.85 * 0.0002 / P(Test=Positive)\n",
        "\n",
        "\n",
        "We don’t know P(Test=Positive), it’s not given directly.\n",
        "Instead, we can estimate it using:\n",
        "P(B) = P(B|A) * P(A) + P(B|not A) * P(not A)\n",
        "P(Test=Positive) = P(Test=Positive|Cancer=True) * P(Cancer=True) + P(Test=Positive|Cancer=False) * P(Cancer=False)\n",
        "\n",
        "\n",
        "Firstly, we can calculate P(Cancer=False) as the complement of P(Cancer=True), which we already know\n",
        "P(Cancer=False) = 1 – P(Cancer=True)\n",
        "= 1 – 0.0002\n",
        "= 0.9998\n",
        "\n",
        "\n",
        "Let’s plugin what we have:\n",
        "We can plug in our known values as follows:\n",
        "P(Test=Positive) = 0.85 * 0.0002 + P(Test=Positive|Cancer=False) * 0.9998\n",
        "\n",
        "\n",
        "We still do not know the probability of a positive test result given no cancer.\n",
        "This requires additional information.\n",
        "Specifically, we need to know how good the test is at correctly identifying people that do not have cancer. That is, testing negative result (Test=Negative) when the patient does not have cancer (Cancer=False), called the true negative rate or the specificity.\n",
        "We will use a contrived specificity value of 95%.\n",
        "P(Test=Negative | Cancer=False) = 0.95\n",
        "\n",
        "\n",
        "With this final piece of information, we can calculate the false positive or false alarm rate as the complement of the true negative rate.\n",
        "P(Test=Positive|Cancer=False) = 1 – P(Test=Negative | Cancer=False)\n",
        "= 1 – 0.95\n",
        "= 0.05\n",
        "\n",
        "\n",
        "We can plug this false alarm rate into our calculation of P(Test=Positive) as follows:\n",
        "P(Test=Positive) = 0.85 * 0.0002 + 0.05 * 0.9998\n",
        "P(Test=Positive) = 0.00017 + 0.04999\n",
        "P(Test=Positive) = 0.05016\n",
        "\n",
        "\n",
        "Excellent, so the probability of the test returning a positive result, regardless of whether the person has cancer or not is about 5%.\n",
        "We now have enough information to calculate Bayes Theorem and estimate the probability of a randomly selected person having cancer if they get a positive test result.\n",
        "P(Cancer=True | Test=Positive) = P(Test=Positive|Cancer=True) * P(Cancer=True) / P(Test=Positive)\n",
        "P(Cancer=True | Test=Positive) = 0.85 * 0.0002 / 0.05016\n",
        "P(Cancer=True | Test=Positive) = 0.00017 / 0.05016\n",
        "P(Cancer=True | Test=Positive) = 0.003389154704944\n",
        "\n",
        "\n",
        "The calculation suggests that if the patient is informed they have cancer with this test, then there is only 0.33% chance that they have cancer.\n",
        "\n",
        "\n",
        "\n",
        "In our scenario we were given 3 pieces of information, the the base rate, the sensitivity (or true positive rate), and the specificity (or true negative rate).\n",
        "Sensitivity: 85% of people with cancer will get a positive test result.\n",
        "Base Rate: 0.02% of people have cancer.\n",
        "Specificity: 95% of people without cancer will get a negative test result.\n",
        "\n",
        "\n",
        "We did not have the P(Test=Positive), but we calculated it given what we already had available.\n",
        "We might imagine that Bayes Theorem allows us to be even more precise about a given scenario. For example, if we had more information about the patient (e.g. their age) and about the domain (e.g. cancer rates for age ranges), and in turn we could offer an even more accurate probability estimate.\n"
      ],
      "metadata": {
        "id": "Dz9JnplbRXN-"
      }
    },
    {
      "cell_type": "markdown",
      "source": [
        "# **Code for executing the example**"
      ],
      "metadata": {
        "id": "gvMGqU6XRr1O"
      }
    },
    {
      "cell_type": "code",
      "execution_count": 1,
      "metadata": {
        "colab": {
          "base_uri": "https://localhost:8080/"
        },
        "id": "7iiidJ_vkfZw",
        "outputId": "14455d91-3be9-4e28-ed1e-916a8b1f03da"
      },
      "outputs": [
        {
          "output_type": "stream",
          "name": "stdout",
          "text": [
            "P(A|B) = 0.339%\n"
          ]
        }
      ],
      "source": [
        "# calculate P(A|B) given P(A), P(B|A), P(B|not A)\n",
        "def bayes_theorem(p_a, p_b_given_a, p_b_given_not_a):\n",
        "\t# calculate P(not A)\n",
        "\tnot_a = 1 - p_a\n",
        "\t# calculate P(B)\n",
        "\tp_b = p_b_given_a * p_a + p_b_given_not_a * not_a\n",
        "\t# calculate P(A|B)\n",
        "\tp_a_given_b = (p_b_given_a * p_a) / p_b\n",
        "\treturn p_a_given_b\n",
        " \n",
        "# P(A)\n",
        "p_a = 0.0002\n",
        "# P(B|A)\n",
        "p_b_given_a = 0.85\n",
        "# P(B|not A)\n",
        "p_b_given_not_a = 0.05\n",
        "# calculate P(A|B)\n",
        "result = bayes_theorem(p_a, p_b_given_a, p_b_given_not_a)\n",
        "# summarize\n",
        "print('P(A|B) = %.3f%%' % (result * 100))\n"
      ]
    },
    {
      "cell_type": "markdown",
      "source": [
        "These example calculates the probability that a patient has cancer given the test returns a positive result, matching our manual calculation."
      ],
      "metadata": {
        "id": "zQwBeuavR1BK"
      }
    }
  ]
}