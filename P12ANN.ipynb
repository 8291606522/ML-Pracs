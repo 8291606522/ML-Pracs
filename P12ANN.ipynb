{
  "nbformat": 4,
  "nbformat_minor": 0,
  "metadata": {
    "colab": {
      "provenance": [],
      "authorship_tag": "ABX9TyO5iETy28W5Su5eMoDGSQK9",
      "include_colab_link": true
    },
    "kernelspec": {
      "name": "python3",
      "display_name": "Python 3"
    },
    "language_info": {
      "name": "python"
    }
  },
  "cells": [
    {
      "cell_type": "markdown",
      "metadata": {
        "id": "view-in-github",
        "colab_type": "text"
      },
      "source": [
        "<a href=\"https://colab.research.google.com/github/8291606522/ML-Pracs/blob/Prac12/P12ANN.ipynb\" target=\"_parent\"><img src=\"https://colab.research.google.com/assets/colab-badge.svg\" alt=\"Open In Colab\"/></a>"
      ]
    },
    {
      "cell_type": "markdown",
      "source": [
        "# **Practical No: 12**\n",
        "# **Aim: Artificial Neural Networks using Python**"
      ],
      "metadata": {
        "id": "-zJW7F4lvfy_"
      }
    },
    {
      "cell_type": "code",
      "execution_count": 1,
      "metadata": {
        "id": "u1Qx9aadp56x"
      },
      "outputs": [],
      "source": [
        "import numpy as np"
      ]
    },
    {
      "cell_type": "code",
      "execution_count": 2,
      "metadata": {
        "id": "63IGMQafp560",
        "outputId": "132773c9-74ac-479a-b96e-70fefa578c38",
        "colab": {
          "base_uri": "https://localhost:8080/"
        }
      },
      "outputs": [
        {
          "output_type": "execute_result",
          "data": {
            "text/plain": [
              "array([[0, 0],\n",
              "       [0, 1],\n",
              "       [1, 1],\n",
              "       [1, 0]])"
            ]
          },
          "metadata": {},
          "execution_count": 2
        }
      ],
      "source": [
        "#assign input values\n",
        "input_value = np.array([[0,0],[0,1],[1,1],[1,0]])\n",
        "input_value.shape\n",
        "input_value"
      ]
    },
    {
      "cell_type": "code",
      "execution_count": 3,
      "metadata": {
        "id": "D20BuPkXp560",
        "outputId": "e4578273-4fb3-4411-91c3-59a9c27bb1e2",
        "colab": {
          "base_uri": "https://localhost:8080/"
        }
      },
      "outputs": [
        {
          "output_type": "execute_result",
          "data": {
            "text/plain": [
              "(4, 1)"
            ]
          },
          "metadata": {},
          "execution_count": 3
        }
      ],
      "source": [
        "#assign output values\n",
        "output=np.array([0,1,1,0])\n",
        "output=output.reshape(4,1)\n",
        "output.shape\n"
      ]
    },
    {
      "cell_type": "code",
      "execution_count": 4,
      "metadata": {
        "id": "kOkxlP8Lp561",
        "outputId": "7ed7a10f-bb02-4613-ad2f-59e871a30ad2",
        "colab": {
          "base_uri": "https://localhost:8080/"
        }
      },
      "outputs": [
        {
          "output_type": "execute_result",
          "data": {
            "text/plain": [
              "array([[0.1],\n",
              "       [0.2]])"
            ]
          },
          "metadata": {},
          "execution_count": 4
        }
      ],
      "source": [
        "#assign weights\n",
        "weigths=np.array([[0.1],[0.2]])\n",
        "weigths"
      ]
    },
    {
      "cell_type": "code",
      "execution_count": 5,
      "metadata": {
        "id": "fDCdHFClp561"
      },
      "outputs": [],
      "source": [
        "#assign bias\n",
        "bias=0.3"
      ]
    },
    {
      "cell_type": "code",
      "execution_count": 6,
      "metadata": {
        "id": "VADmv2Xqp562"
      },
      "outputs": [],
      "source": [
        "#Activation function\n",
        "def sigmoid_func(x):\n",
        "    return 1/(1 + np.exp(-x))"
      ]
    },
    {
      "cell_type": "code",
      "execution_count": 7,
      "metadata": {
        "id": "-asKX81rp562"
      },
      "outputs": [],
      "source": [
        "#Derivative of Sigmoid function\n",
        "def der(x):\n",
        "    return sigmoid_func(x) * (1- sigmoid_func(x))"
      ]
    },
    {
      "cell_type": "code",
      "execution_count": 8,
      "metadata": {
        "id": "g2vbVp1Zp562"
      },
      "outputs": [],
      "source": [
        "#Updating weigths\n",
        "for epochs in range(10000):\n",
        "    input_arr = input_value\n",
        "    \n",
        "    weighted_sum=np.dot(input_arr, weigths) + bias\n",
        "    first_output=sigmoid_func(weighted_sum)\n",
        "    \n",
        "    error =first_output - output\n",
        "    total_error=np.square(np.subtract(first_output,output)).mean()\n",
        "    \n",
        "    first_der = error\n",
        "    second_der = der(first_output)\n",
        "    derivative = first_der * second_der\n",
        "    \n",
        "    t_input = input_value.T\n",
        "    final_derivative = np.dot(t_input, derivative)\n",
        "    \n",
        "    #update weights\n",
        "    weigths = weigths - 0.05 * final_derivative\n",
        "    \n",
        "    #update bias\n",
        "    for i in derivative:\n",
        "        bias = bias - 0.05 * i"
      ]
    },
    {
      "cell_type": "code",
      "execution_count": 9,
      "metadata": {
        "id": "TM5vZeh-p563",
        "outputId": "962a94dc-f7e2-4758-e9bd-1c214b59e735",
        "colab": {
          "base_uri": "https://localhost:8080/"
        }
      },
      "outputs": [
        {
          "output_type": "stream",
          "name": "stdout",
          "text": [
            "[-4.19706344]\n"
          ]
        }
      ],
      "source": [
        "print(bias)"
      ]
    },
    {
      "cell_type": "code",
      "execution_count": 10,
      "metadata": {
        "id": "LO7W3NXmp563",
        "outputId": "7346f800-55bc-410c-c048-54eb3ec44686",
        "colab": {
          "base_uri": "https://localhost:8080/"
        }
      },
      "outputs": [
        {
          "output_type": "stream",
          "name": "stdout",
          "text": [
            "[0.99177089]\n"
          ]
        }
      ],
      "source": [
        "pred = np.array([0,1])\n",
        "result = np.dot(pred, weigths) + bias\n",
        "\n",
        "res = sigmoid_func(result)\n",
        "\n",
        "print(res)"
      ]
    }
  ]
}